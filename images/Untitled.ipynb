{
 "cells": [
  {
   "cell_type": "code",
   "execution_count": 2,
   "metadata": {},
   "outputs": [],
   "source": [
    "import numpy as np\n",
    "import pandas as pd"
   ]
  },
  {
   "cell_type": "code",
   "execution_count": 3,
   "metadata": {},
   "outputs": [],
   "source": [
    "firsttry = np.array([92.01,92.00,91.83,86.52,84.32,81.72,72.49,65.81,65.76])\n",
    "secondtry = np.array([92.78,92.23,93.04,88.99,87.99,84.77,85.02,68.28,65.75])"
   ]
  },
  {
   "cell_type": "code",
   "execution_count": 4,
   "metadata": {},
   "outputs": [
    {
     "data": {
      "text/plain": [
       "array([-7.700e-01, -2.300e-01, -1.210e+00, -2.470e+00, -3.670e+00,\n",
       "       -3.050e+00, -1.253e+01, -2.470e+00,  1.000e-02])"
      ]
     },
     "execution_count": 4,
     "metadata": {},
     "output_type": "execute_result"
    }
   ],
   "source": [
    "firsttry-secondtry"
   ]
  },
  {
   "cell_type": "code",
   "execution_count": 4,
   "metadata": {},
   "outputs": [
    {
     "data": {
      "text/plain": [
       "array([-7.700e-01, -2.300e-01, -1.210e+00, -2.470e+00, -3.670e+00,\n",
       "       -3.050e+00, -1.253e+01, -2.470e+00,  1.000e-02])"
      ]
     },
     "execution_count": 4,
     "metadata": {},
     "output_type": "execute_result"
    }
   ],
   "source": [
    "np.subtract(firsttry,secondtry)"
   ]
  },
  {
   "cell_type": "code",
   "execution_count": 5,
   "metadata": {},
   "outputs": [
    {
     "data": {
      "text/plain": [
       "-0.769999999999996"
      ]
     },
     "execution_count": 5,
     "metadata": {},
     "output_type": "execute_result"
    }
   ],
   "source": [
    "np.subtract(92.01,92.78)"
   ]
  },
  {
   "cell_type": "code",
   "execution_count": 6,
   "metadata": {},
   "outputs": [
    {
     "data": {
      "text/plain": [
       "array([92.01, 92.  , 91.83, 86.52, 84.32, 81.72, 72.49, 65.81, 65.76])"
      ]
     },
     "execution_count": 6,
     "metadata": {},
     "output_type": "execute_result"
    }
   ],
   "source": [
    "firsttry"
   ]
  },
  {
   "cell_type": "code",
   "execution_count": 9,
   "metadata": {},
   "outputs": [
    {
     "data": {
      "text/plain": [
       "dtype('float64')"
      ]
     },
     "execution_count": 9,
     "metadata": {},
     "output_type": "execute_result"
    }
   ],
   "source": [
    "firsttry.dtype"
   ]
  },
  {
   "cell_type": "code",
   "execution_count": 1,
   "metadata": {},
   "outputs": [
    {
     "data": {
      "text/plain": [
       "-0.769999999999996"
      ]
     },
     "execution_count": 1,
     "metadata": {},
     "output_type": "execute_result"
    }
   ],
   "source": [
    "92.01-92.78"
   ]
  },
  {
   "cell_type": "code",
   "execution_count": 2,
   "metadata": {},
   "outputs": [
    {
     "data": {
      "text/plain": [
       "False"
      ]
     },
     "execution_count": 2,
     "metadata": {},
     "output_type": "execute_result"
    }
   ],
   "source": [
    "a = 92.01-92.78\n",
    "-7.700e-01 == a"
   ]
  },
  {
   "cell_type": "code",
   "execution_count": 5,
   "metadata": {},
   "outputs": [],
   "source": [
    "float_formatter = \"{:.2f}\".format"
   ]
  },
  {
   "cell_type": "code",
   "execution_count": 6,
   "metadata": {},
   "outputs": [],
   "source": [
    "np.set_printoptions(formatter={'float_kind':float_formatter})"
   ]
  },
  {
   "cell_type": "code",
   "execution_count": 8,
   "metadata": {},
   "outputs": [
    {
     "data": {
      "text/plain": [
       "array([0.77, 0.23, 1.21, 2.47, 3.67, 3.05, 12.53, 2.47, -0.01])"
      ]
     },
     "execution_count": 8,
     "metadata": {},
     "output_type": "execute_result"
    }
   ],
   "source": [
    "answer = secondtry -firsttry\n",
    "answer"
   ]
  },
  {
   "cell_type": "code",
   "execution_count": 49,
   "metadata": {},
   "outputs": [],
   "source": [
    "acc = np.array([96.63,96.66,95.75,88.59,93.85,79.56,87.51,86.11,56.95])"
   ]
  },
  {
   "cell_type": "code",
   "execution_count": 26,
   "metadata": {},
   "outputs": [
    {
     "data": {
      "text/plain": [
       "0                         GBC\n",
       "1                         XGB\n",
       "2               Random Forest\n",
       "3                  Kernel SVM\n",
       "4    Decision Tree Classifier\n",
       "5         Logistic Regression\n",
       "6                         SVC\n",
       "7                         KNN\n",
       "8                 Gaussian NB\n",
       "Name: Models, dtype: object"
      ]
     },
     "execution_count": 26,
     "metadata": {},
     "output_type": "execute_result"
    }
   ],
   "source": [
    "d= np.array([\"GBC\",\"XGB\",\"Random Forest\",\"Kernel SVM\",\"Decision Tree Classifier\",\"Logistic Regression\",\"SVC\",\"KNN\",\"Gaussian NB\"])\n",
    "models = pd.Series(d, name = \"Models\")\n",
    "models\n"
   ]
  },
  {
   "cell_type": "code",
   "execution_count": 36,
   "metadata": {},
   "outputs": [
    {
     "data": {
      "text/plain": [
       "array([0.64, 0.84, 1.46, 2.51, 3.48, 3.01, 12.48, 3.08, -0.01])"
      ]
     },
     "execution_count": 36,
     "metadata": {},
     "output_type": "execute_result"
    }
   ],
   "source": [
    "thirdtry = np.array([92.65,92.84,93.29,89.03,87.80,84.73,84.97,68.89,65.75])\n",
    "answer2 = thirdtry - firsttry\n",
    "answer2 "
   ]
  },
  {
   "cell_type": "code",
   "execution_count": 50,
   "metadata": {},
   "outputs": [
    {
     "data": {
      "text/plain": [
       "0    92.01\n",
       "1    92.00\n",
       "2    91.83\n",
       "3    86.52\n",
       "4    84.32\n",
       "5    81.72\n",
       "6    72.49\n",
       "7    65.81\n",
       "8    65.76\n",
       "Name: with outliers, dtype: float64"
      ]
     },
     "execution_count": 50,
     "metadata": {},
     "output_type": "execute_result"
    }
   ],
   "source": [
    "result1 = pd.Series(firsttry,name= \"with outliers\")\n",
    "result2 = pd.Series(secondtry, name= \"Removed outliers\")\n",
    "result3 = pd.Series(thirdtry, name = \"Removed outliers, with account length bins\")\n",
    "difference = pd.Series(answer, name= \"Difference between with outliers and Removed outliers\")\n",
    "difference2 = pd.Series(answer2, name = \"Difference between with outliers and Removed outliers, with account length bins\")\n",
    "accuracy = pd.Series(acc, name=\"Accuracy,Removed outliers, with account length bins\")\n",
    "result1"
   ]
  },
  {
   "cell_type": "code",
   "execution_count": 51,
   "metadata": {},
   "outputs": [
    {
     "data": {
      "text/plain": [
       "0    92.78\n",
       "1    92.23\n",
       "2    93.04\n",
       "3    88.99\n",
       "4    87.99\n",
       "5    84.77\n",
       "6    85.02\n",
       "7    68.28\n",
       "8    65.75\n",
       "Name: Removed outliers, dtype: float64"
      ]
     },
     "execution_count": 51,
     "metadata": {},
     "output_type": "execute_result"
    }
   ],
   "source": [
    "result2"
   ]
  },
  {
   "cell_type": "code",
   "execution_count": 52,
   "metadata": {},
   "outputs": [
    {
     "data": {
      "text/plain": [
       "0     0.77\n",
       "1     0.23\n",
       "2     1.21\n",
       "3     2.47\n",
       "4     3.67\n",
       "5     3.05\n",
       "6    12.53\n",
       "7     2.47\n",
       "8    -0.01\n",
       "Name: Difference between with outliers and Removed outliers, dtype: float64"
      ]
     },
     "execution_count": 52,
     "metadata": {},
     "output_type": "execute_result"
    }
   ],
   "source": [
    "difference"
   ]
  },
  {
   "cell_type": "code",
   "execution_count": 43,
   "metadata": {},
   "outputs": [
    {
     "data": {
      "text/plain": [
       "0     0.64\n",
       "1     0.84\n",
       "2     1.46\n",
       "3     2.51\n",
       "4     3.48\n",
       "5     3.01\n",
       "6    12.48\n",
       "7     3.08\n",
       "8    -0.01\n",
       "Name: Difference between with outliers and Removed outliers, with account length bins, dtype: float64"
      ]
     },
     "execution_count": 43,
     "metadata": {},
     "output_type": "execute_result"
    }
   ],
   "source": [
    "difference2"
   ]
  },
  {
   "cell_type": "code",
   "execution_count": 53,
   "metadata": {},
   "outputs": [
    {
     "data": {
      "text/html": [
       "<div>\n",
       "<style scoped>\n",
       "    .dataframe tbody tr th:only-of-type {\n",
       "        vertical-align: middle;\n",
       "    }\n",
       "\n",
       "    .dataframe tbody tr th {\n",
       "        vertical-align: top;\n",
       "    }\n",
       "\n",
       "    .dataframe thead th {\n",
       "        text-align: right;\n",
       "    }\n",
       "</style>\n",
       "<table border=\"1\" class=\"dataframe\">\n",
       "  <thead>\n",
       "    <tr style=\"text-align: right;\">\n",
       "      <th></th>\n",
       "      <th>Models</th>\n",
       "      <th>with outliers</th>\n",
       "    </tr>\n",
       "  </thead>\n",
       "  <tbody>\n",
       "    <tr>\n",
       "      <th>0</th>\n",
       "      <td>GBC</td>\n",
       "      <td>92.01</td>\n",
       "    </tr>\n",
       "    <tr>\n",
       "      <th>1</th>\n",
       "      <td>XGB</td>\n",
       "      <td>92.00</td>\n",
       "    </tr>\n",
       "    <tr>\n",
       "      <th>2</th>\n",
       "      <td>Random Forest</td>\n",
       "      <td>91.83</td>\n",
       "    </tr>\n",
       "    <tr>\n",
       "      <th>3</th>\n",
       "      <td>Kernel SVM</td>\n",
       "      <td>86.52</td>\n",
       "    </tr>\n",
       "    <tr>\n",
       "      <th>4</th>\n",
       "      <td>Decision Tree Classifier</td>\n",
       "      <td>84.32</td>\n",
       "    </tr>\n",
       "    <tr>\n",
       "      <th>5</th>\n",
       "      <td>Logistic Regression</td>\n",
       "      <td>81.72</td>\n",
       "    </tr>\n",
       "    <tr>\n",
       "      <th>6</th>\n",
       "      <td>SVC</td>\n",
       "      <td>72.49</td>\n",
       "    </tr>\n",
       "    <tr>\n",
       "      <th>7</th>\n",
       "      <td>KNN</td>\n",
       "      <td>65.81</td>\n",
       "    </tr>\n",
       "    <tr>\n",
       "      <th>8</th>\n",
       "      <td>Gaussian NB</td>\n",
       "      <td>65.76</td>\n",
       "    </tr>\n",
       "  </tbody>\n",
       "</table>\n",
       "</div>"
      ],
      "text/plain": [
       "                     Models  with outliers\n",
       "0                       GBC          92.01\n",
       "1                       XGB          92.00\n",
       "2             Random Forest          91.83\n",
       "3                Kernel SVM          86.52\n",
       "4  Decision Tree Classifier          84.32\n",
       "5       Logistic Regression          81.72\n",
       "6                       SVC          72.49\n",
       "7                       KNN          65.81\n",
       "8               Gaussian NB          65.76"
      ]
     },
     "execution_count": 53,
     "metadata": {},
     "output_type": "execute_result"
    }
   ],
   "source": [
    "improvement_df = pd.merge(models, result1, right_index = True, left_index = True) \n",
    "improvement_df"
   ]
  },
  {
   "cell_type": "code",
   "execution_count": 54,
   "metadata": {},
   "outputs": [
    {
     "data": {
      "text/html": [
       "<div>\n",
       "<style scoped>\n",
       "    .dataframe tbody tr th:only-of-type {\n",
       "        vertical-align: middle;\n",
       "    }\n",
       "\n",
       "    .dataframe tbody tr th {\n",
       "        vertical-align: top;\n",
       "    }\n",
       "\n",
       "    .dataframe thead th {\n",
       "        text-align: right;\n",
       "    }\n",
       "</style>\n",
       "<table border=\"1\" class=\"dataframe\">\n",
       "  <thead>\n",
       "    <tr style=\"text-align: right;\">\n",
       "      <th></th>\n",
       "      <th>Models</th>\n",
       "      <th>with outliers</th>\n",
       "      <th>Removed outliers</th>\n",
       "    </tr>\n",
       "  </thead>\n",
       "  <tbody>\n",
       "    <tr>\n",
       "      <th>0</th>\n",
       "      <td>GBC</td>\n",
       "      <td>92.01</td>\n",
       "      <td>92.78</td>\n",
       "    </tr>\n",
       "    <tr>\n",
       "      <th>1</th>\n",
       "      <td>XGB</td>\n",
       "      <td>92.00</td>\n",
       "      <td>92.23</td>\n",
       "    </tr>\n",
       "    <tr>\n",
       "      <th>2</th>\n",
       "      <td>Random Forest</td>\n",
       "      <td>91.83</td>\n",
       "      <td>93.04</td>\n",
       "    </tr>\n",
       "    <tr>\n",
       "      <th>3</th>\n",
       "      <td>Kernel SVM</td>\n",
       "      <td>86.52</td>\n",
       "      <td>88.99</td>\n",
       "    </tr>\n",
       "    <tr>\n",
       "      <th>4</th>\n",
       "      <td>Decision Tree Classifier</td>\n",
       "      <td>84.32</td>\n",
       "      <td>87.99</td>\n",
       "    </tr>\n",
       "    <tr>\n",
       "      <th>5</th>\n",
       "      <td>Logistic Regression</td>\n",
       "      <td>81.72</td>\n",
       "      <td>84.77</td>\n",
       "    </tr>\n",
       "    <tr>\n",
       "      <th>6</th>\n",
       "      <td>SVC</td>\n",
       "      <td>72.49</td>\n",
       "      <td>85.02</td>\n",
       "    </tr>\n",
       "    <tr>\n",
       "      <th>7</th>\n",
       "      <td>KNN</td>\n",
       "      <td>65.81</td>\n",
       "      <td>68.28</td>\n",
       "    </tr>\n",
       "    <tr>\n",
       "      <th>8</th>\n",
       "      <td>Gaussian NB</td>\n",
       "      <td>65.76</td>\n",
       "      <td>65.75</td>\n",
       "    </tr>\n",
       "  </tbody>\n",
       "</table>\n",
       "</div>"
      ],
      "text/plain": [
       "                     Models  with outliers  Removed outliers\n",
       "0                       GBC          92.01             92.78\n",
       "1                       XGB          92.00             92.23\n",
       "2             Random Forest          91.83             93.04\n",
       "3                Kernel SVM          86.52             88.99\n",
       "4  Decision Tree Classifier          84.32             87.99\n",
       "5       Logistic Regression          81.72             84.77\n",
       "6                       SVC          72.49             85.02\n",
       "7                       KNN          65.81             68.28\n",
       "8               Gaussian NB          65.76             65.75"
      ]
     },
     "execution_count": 54,
     "metadata": {},
     "output_type": "execute_result"
    }
   ],
   "source": [
    "improvement_df = pd.merge(improvement_df , result2, right_index = True, left_index = True) \n",
    "improvement_df"
   ]
  },
  {
   "cell_type": "code",
   "execution_count": 55,
   "metadata": {},
   "outputs": [
    {
     "data": {
      "text/html": [
       "<div>\n",
       "<style scoped>\n",
       "    .dataframe tbody tr th:only-of-type {\n",
       "        vertical-align: middle;\n",
       "    }\n",
       "\n",
       "    .dataframe tbody tr th {\n",
       "        vertical-align: top;\n",
       "    }\n",
       "\n",
       "    .dataframe thead th {\n",
       "        text-align: right;\n",
       "    }\n",
       "</style>\n",
       "<table border=\"1\" class=\"dataframe\">\n",
       "  <thead>\n",
       "    <tr style=\"text-align: right;\">\n",
       "      <th></th>\n",
       "      <th>Models</th>\n",
       "      <th>with outliers</th>\n",
       "      <th>Removed outliers</th>\n",
       "      <th>Removed outliers, with account length bins</th>\n",
       "    </tr>\n",
       "  </thead>\n",
       "  <tbody>\n",
       "    <tr>\n",
       "      <th>0</th>\n",
       "      <td>GBC</td>\n",
       "      <td>92.01</td>\n",
       "      <td>92.78</td>\n",
       "      <td>92.65</td>\n",
       "    </tr>\n",
       "    <tr>\n",
       "      <th>1</th>\n",
       "      <td>XGB</td>\n",
       "      <td>92.00</td>\n",
       "      <td>92.23</td>\n",
       "      <td>92.84</td>\n",
       "    </tr>\n",
       "    <tr>\n",
       "      <th>2</th>\n",
       "      <td>Random Forest</td>\n",
       "      <td>91.83</td>\n",
       "      <td>93.04</td>\n",
       "      <td>93.29</td>\n",
       "    </tr>\n",
       "    <tr>\n",
       "      <th>3</th>\n",
       "      <td>Kernel SVM</td>\n",
       "      <td>86.52</td>\n",
       "      <td>88.99</td>\n",
       "      <td>89.03</td>\n",
       "    </tr>\n",
       "    <tr>\n",
       "      <th>4</th>\n",
       "      <td>Decision Tree Classifier</td>\n",
       "      <td>84.32</td>\n",
       "      <td>87.99</td>\n",
       "      <td>87.80</td>\n",
       "    </tr>\n",
       "    <tr>\n",
       "      <th>5</th>\n",
       "      <td>Logistic Regression</td>\n",
       "      <td>81.72</td>\n",
       "      <td>84.77</td>\n",
       "      <td>84.73</td>\n",
       "    </tr>\n",
       "    <tr>\n",
       "      <th>6</th>\n",
       "      <td>SVC</td>\n",
       "      <td>72.49</td>\n",
       "      <td>85.02</td>\n",
       "      <td>84.97</td>\n",
       "    </tr>\n",
       "    <tr>\n",
       "      <th>7</th>\n",
       "      <td>KNN</td>\n",
       "      <td>65.81</td>\n",
       "      <td>68.28</td>\n",
       "      <td>68.89</td>\n",
       "    </tr>\n",
       "    <tr>\n",
       "      <th>8</th>\n",
       "      <td>Gaussian NB</td>\n",
       "      <td>65.76</td>\n",
       "      <td>65.75</td>\n",
       "      <td>65.75</td>\n",
       "    </tr>\n",
       "  </tbody>\n",
       "</table>\n",
       "</div>"
      ],
      "text/plain": [
       "                     Models  with outliers  Removed outliers  \\\n",
       "0                       GBC          92.01             92.78   \n",
       "1                       XGB          92.00             92.23   \n",
       "2             Random Forest          91.83             93.04   \n",
       "3                Kernel SVM          86.52             88.99   \n",
       "4  Decision Tree Classifier          84.32             87.99   \n",
       "5       Logistic Regression          81.72             84.77   \n",
       "6                       SVC          72.49             85.02   \n",
       "7                       KNN          65.81             68.28   \n",
       "8               Gaussian NB          65.76             65.75   \n",
       "\n",
       "   Removed outliers, with account length bins  \n",
       "0                                       92.65  \n",
       "1                                       92.84  \n",
       "2                                       93.29  \n",
       "3                                       89.03  \n",
       "4                                       87.80  \n",
       "5                                       84.73  \n",
       "6                                       84.97  \n",
       "7                                       68.89  \n",
       "8                                       65.75  "
      ]
     },
     "execution_count": 55,
     "metadata": {},
     "output_type": "execute_result"
    }
   ],
   "source": [
    "improvement_df = pd.merge(improvement_df , result3, right_index = True, left_index = True) \n",
    "improvement_df"
   ]
  },
  {
   "cell_type": "code",
   "execution_count": 56,
   "metadata": {},
   "outputs": [
    {
     "data": {
      "text/html": [
       "<div>\n",
       "<style scoped>\n",
       "    .dataframe tbody tr th:only-of-type {\n",
       "        vertical-align: middle;\n",
       "    }\n",
       "\n",
       "    .dataframe tbody tr th {\n",
       "        vertical-align: top;\n",
       "    }\n",
       "\n",
       "    .dataframe thead th {\n",
       "        text-align: right;\n",
       "    }\n",
       "</style>\n",
       "<table border=\"1\" class=\"dataframe\">\n",
       "  <thead>\n",
       "    <tr style=\"text-align: right;\">\n",
       "      <th></th>\n",
       "      <th>Models</th>\n",
       "      <th>with outliers</th>\n",
       "      <th>Removed outliers</th>\n",
       "      <th>Removed outliers, with account length bins</th>\n",
       "      <th>Accuracy,Removed outliers, with account length bins</th>\n",
       "    </tr>\n",
       "  </thead>\n",
       "  <tbody>\n",
       "    <tr>\n",
       "      <th>0</th>\n",
       "      <td>GBC</td>\n",
       "      <td>92.01</td>\n",
       "      <td>92.78</td>\n",
       "      <td>92.65</td>\n",
       "      <td>96.63</td>\n",
       "    </tr>\n",
       "    <tr>\n",
       "      <th>1</th>\n",
       "      <td>XGB</td>\n",
       "      <td>92.00</td>\n",
       "      <td>92.23</td>\n",
       "      <td>92.84</td>\n",
       "      <td>96.66</td>\n",
       "    </tr>\n",
       "    <tr>\n",
       "      <th>2</th>\n",
       "      <td>Random Forest</td>\n",
       "      <td>91.83</td>\n",
       "      <td>93.04</td>\n",
       "      <td>93.29</td>\n",
       "      <td>95.75</td>\n",
       "    </tr>\n",
       "    <tr>\n",
       "      <th>3</th>\n",
       "      <td>Kernel SVM</td>\n",
       "      <td>86.52</td>\n",
       "      <td>88.99</td>\n",
       "      <td>89.03</td>\n",
       "      <td>88.59</td>\n",
       "    </tr>\n",
       "    <tr>\n",
       "      <th>4</th>\n",
       "      <td>Decision Tree Classifier</td>\n",
       "      <td>84.32</td>\n",
       "      <td>87.99</td>\n",
       "      <td>87.80</td>\n",
       "      <td>93.85</td>\n",
       "    </tr>\n",
       "    <tr>\n",
       "      <th>5</th>\n",
       "      <td>Logistic Regression</td>\n",
       "      <td>81.72</td>\n",
       "      <td>84.77</td>\n",
       "      <td>84.73</td>\n",
       "      <td>79.56</td>\n",
       "    </tr>\n",
       "    <tr>\n",
       "      <th>6</th>\n",
       "      <td>SVC</td>\n",
       "      <td>72.49</td>\n",
       "      <td>85.02</td>\n",
       "      <td>84.97</td>\n",
       "      <td>87.51</td>\n",
       "    </tr>\n",
       "    <tr>\n",
       "      <th>7</th>\n",
       "      <td>KNN</td>\n",
       "      <td>65.81</td>\n",
       "      <td>68.28</td>\n",
       "      <td>68.89</td>\n",
       "      <td>86.11</td>\n",
       "    </tr>\n",
       "    <tr>\n",
       "      <th>8</th>\n",
       "      <td>Gaussian NB</td>\n",
       "      <td>65.76</td>\n",
       "      <td>65.75</td>\n",
       "      <td>65.75</td>\n",
       "      <td>56.95</td>\n",
       "    </tr>\n",
       "  </tbody>\n",
       "</table>\n",
       "</div>"
      ],
      "text/plain": [
       "                     Models  with outliers  Removed outliers  \\\n",
       "0                       GBC          92.01             92.78   \n",
       "1                       XGB          92.00             92.23   \n",
       "2             Random Forest          91.83             93.04   \n",
       "3                Kernel SVM          86.52             88.99   \n",
       "4  Decision Tree Classifier          84.32             87.99   \n",
       "5       Logistic Regression          81.72             84.77   \n",
       "6                       SVC          72.49             85.02   \n",
       "7                       KNN          65.81             68.28   \n",
       "8               Gaussian NB          65.76             65.75   \n",
       "\n",
       "   Removed outliers, with account length bins  \\\n",
       "0                                       92.65   \n",
       "1                                       92.84   \n",
       "2                                       93.29   \n",
       "3                                       89.03   \n",
       "4                                       87.80   \n",
       "5                                       84.73   \n",
       "6                                       84.97   \n",
       "7                                       68.89   \n",
       "8                                       65.75   \n",
       "\n",
       "   Accuracy,Removed outliers, with account length bins  \n",
       "0                                              96.63    \n",
       "1                                              96.66    \n",
       "2                                              95.75    \n",
       "3                                              88.59    \n",
       "4                                              93.85    \n",
       "5                                              79.56    \n",
       "6                                              87.51    \n",
       "7                                              86.11    \n",
       "8                                              56.95    "
      ]
     },
     "execution_count": 56,
     "metadata": {},
     "output_type": "execute_result"
    }
   ],
   "source": [
    "improvement_df = pd.merge(improvement_df ,accuracy, right_index = True, left_index = True) \n",
    "improvement_df"
   ]
  },
  {
   "cell_type": "code",
   "execution_count": 57,
   "metadata": {},
   "outputs": [
    {
     "data": {
      "text/html": [
       "<div>\n",
       "<style scoped>\n",
       "    .dataframe tbody tr th:only-of-type {\n",
       "        vertical-align: middle;\n",
       "    }\n",
       "\n",
       "    .dataframe tbody tr th {\n",
       "        vertical-align: top;\n",
       "    }\n",
       "\n",
       "    .dataframe thead th {\n",
       "        text-align: right;\n",
       "    }\n",
       "</style>\n",
       "<table border=\"1\" class=\"dataframe\">\n",
       "  <thead>\n",
       "    <tr style=\"text-align: right;\">\n",
       "      <th></th>\n",
       "      <th>Models</th>\n",
       "      <th>with outliers</th>\n",
       "      <th>Removed outliers</th>\n",
       "      <th>Removed outliers, with account length bins</th>\n",
       "      <th>Accuracy,Removed outliers, with account length bins</th>\n",
       "      <th>Difference between with outliers and Removed outliers</th>\n",
       "    </tr>\n",
       "  </thead>\n",
       "  <tbody>\n",
       "    <tr>\n",
       "      <th>0</th>\n",
       "      <td>GBC</td>\n",
       "      <td>92.01</td>\n",
       "      <td>92.78</td>\n",
       "      <td>92.65</td>\n",
       "      <td>96.63</td>\n",
       "      <td>0.77</td>\n",
       "    </tr>\n",
       "    <tr>\n",
       "      <th>1</th>\n",
       "      <td>XGB</td>\n",
       "      <td>92.00</td>\n",
       "      <td>92.23</td>\n",
       "      <td>92.84</td>\n",
       "      <td>96.66</td>\n",
       "      <td>0.23</td>\n",
       "    </tr>\n",
       "    <tr>\n",
       "      <th>2</th>\n",
       "      <td>Random Forest</td>\n",
       "      <td>91.83</td>\n",
       "      <td>93.04</td>\n",
       "      <td>93.29</td>\n",
       "      <td>95.75</td>\n",
       "      <td>1.21</td>\n",
       "    </tr>\n",
       "    <tr>\n",
       "      <th>3</th>\n",
       "      <td>Kernel SVM</td>\n",
       "      <td>86.52</td>\n",
       "      <td>88.99</td>\n",
       "      <td>89.03</td>\n",
       "      <td>88.59</td>\n",
       "      <td>2.47</td>\n",
       "    </tr>\n",
       "    <tr>\n",
       "      <th>4</th>\n",
       "      <td>Decision Tree Classifier</td>\n",
       "      <td>84.32</td>\n",
       "      <td>87.99</td>\n",
       "      <td>87.80</td>\n",
       "      <td>93.85</td>\n",
       "      <td>3.67</td>\n",
       "    </tr>\n",
       "    <tr>\n",
       "      <th>5</th>\n",
       "      <td>Logistic Regression</td>\n",
       "      <td>81.72</td>\n",
       "      <td>84.77</td>\n",
       "      <td>84.73</td>\n",
       "      <td>79.56</td>\n",
       "      <td>3.05</td>\n",
       "    </tr>\n",
       "    <tr>\n",
       "      <th>6</th>\n",
       "      <td>SVC</td>\n",
       "      <td>72.49</td>\n",
       "      <td>85.02</td>\n",
       "      <td>84.97</td>\n",
       "      <td>87.51</td>\n",
       "      <td>12.53</td>\n",
       "    </tr>\n",
       "    <tr>\n",
       "      <th>7</th>\n",
       "      <td>KNN</td>\n",
       "      <td>65.81</td>\n",
       "      <td>68.28</td>\n",
       "      <td>68.89</td>\n",
       "      <td>86.11</td>\n",
       "      <td>2.47</td>\n",
       "    </tr>\n",
       "    <tr>\n",
       "      <th>8</th>\n",
       "      <td>Gaussian NB</td>\n",
       "      <td>65.76</td>\n",
       "      <td>65.75</td>\n",
       "      <td>65.75</td>\n",
       "      <td>56.95</td>\n",
       "      <td>-0.01</td>\n",
       "    </tr>\n",
       "  </tbody>\n",
       "</table>\n",
       "</div>"
      ],
      "text/plain": [
       "                     Models  with outliers  Removed outliers  \\\n",
       "0                       GBC          92.01             92.78   \n",
       "1                       XGB          92.00             92.23   \n",
       "2             Random Forest          91.83             93.04   \n",
       "3                Kernel SVM          86.52             88.99   \n",
       "4  Decision Tree Classifier          84.32             87.99   \n",
       "5       Logistic Regression          81.72             84.77   \n",
       "6                       SVC          72.49             85.02   \n",
       "7                       KNN          65.81             68.28   \n",
       "8               Gaussian NB          65.76             65.75   \n",
       "\n",
       "   Removed outliers, with account length bins  \\\n",
       "0                                       92.65   \n",
       "1                                       92.84   \n",
       "2                                       93.29   \n",
       "3                                       89.03   \n",
       "4                                       87.80   \n",
       "5                                       84.73   \n",
       "6                                       84.97   \n",
       "7                                       68.89   \n",
       "8                                       65.75   \n",
       "\n",
       "   Accuracy,Removed outliers, with account length bins  \\\n",
       "0                                              96.63     \n",
       "1                                              96.66     \n",
       "2                                              95.75     \n",
       "3                                              88.59     \n",
       "4                                              93.85     \n",
       "5                                              79.56     \n",
       "6                                              87.51     \n",
       "7                                              86.11     \n",
       "8                                              56.95     \n",
       "\n",
       "   Difference between with outliers and Removed outliers  \n",
       "0                                               0.77      \n",
       "1                                               0.23      \n",
       "2                                               1.21      \n",
       "3                                               2.47      \n",
       "4                                               3.67      \n",
       "5                                               3.05      \n",
       "6                                              12.53      \n",
       "7                                               2.47      \n",
       "8                                              -0.01      "
      ]
     },
     "execution_count": 57,
     "metadata": {},
     "output_type": "execute_result"
    }
   ],
   "source": [
    "improvement_df = pd.merge(improvement_df,difference, right_index = True, left_index = True) \n",
    "improvement_df"
   ]
  },
  {
   "cell_type": "code",
   "execution_count": 58,
   "metadata": {},
   "outputs": [
    {
     "data": {
      "text/html": [
       "<div>\n",
       "<style scoped>\n",
       "    .dataframe tbody tr th:only-of-type {\n",
       "        vertical-align: middle;\n",
       "    }\n",
       "\n",
       "    .dataframe tbody tr th {\n",
       "        vertical-align: top;\n",
       "    }\n",
       "\n",
       "    .dataframe thead th {\n",
       "        text-align: right;\n",
       "    }\n",
       "</style>\n",
       "<table border=\"1\" class=\"dataframe\">\n",
       "  <thead>\n",
       "    <tr style=\"text-align: right;\">\n",
       "      <th></th>\n",
       "      <th>Models</th>\n",
       "      <th>with outliers</th>\n",
       "      <th>Removed outliers</th>\n",
       "      <th>Removed outliers, with account length bins</th>\n",
       "      <th>Accuracy,Removed outliers, with account length bins</th>\n",
       "      <th>Difference between with outliers and Removed outliers</th>\n",
       "      <th>Difference between with outliers and Removed outliers, with account length bins</th>\n",
       "    </tr>\n",
       "  </thead>\n",
       "  <tbody>\n",
       "    <tr>\n",
       "      <th>0</th>\n",
       "      <td>GBC</td>\n",
       "      <td>92.01</td>\n",
       "      <td>92.78</td>\n",
       "      <td>92.65</td>\n",
       "      <td>96.63</td>\n",
       "      <td>0.77</td>\n",
       "      <td>0.64</td>\n",
       "    </tr>\n",
       "    <tr>\n",
       "      <th>1</th>\n",
       "      <td>XGB</td>\n",
       "      <td>92.00</td>\n",
       "      <td>92.23</td>\n",
       "      <td>92.84</td>\n",
       "      <td>96.66</td>\n",
       "      <td>0.23</td>\n",
       "      <td>0.84</td>\n",
       "    </tr>\n",
       "    <tr>\n",
       "      <th>2</th>\n",
       "      <td>Random Forest</td>\n",
       "      <td>91.83</td>\n",
       "      <td>93.04</td>\n",
       "      <td>93.29</td>\n",
       "      <td>95.75</td>\n",
       "      <td>1.21</td>\n",
       "      <td>1.46</td>\n",
       "    </tr>\n",
       "    <tr>\n",
       "      <th>3</th>\n",
       "      <td>Kernel SVM</td>\n",
       "      <td>86.52</td>\n",
       "      <td>88.99</td>\n",
       "      <td>89.03</td>\n",
       "      <td>88.59</td>\n",
       "      <td>2.47</td>\n",
       "      <td>2.51</td>\n",
       "    </tr>\n",
       "    <tr>\n",
       "      <th>4</th>\n",
       "      <td>Decision Tree Classifier</td>\n",
       "      <td>84.32</td>\n",
       "      <td>87.99</td>\n",
       "      <td>87.80</td>\n",
       "      <td>93.85</td>\n",
       "      <td>3.67</td>\n",
       "      <td>3.48</td>\n",
       "    </tr>\n",
       "    <tr>\n",
       "      <th>5</th>\n",
       "      <td>Logistic Regression</td>\n",
       "      <td>81.72</td>\n",
       "      <td>84.77</td>\n",
       "      <td>84.73</td>\n",
       "      <td>79.56</td>\n",
       "      <td>3.05</td>\n",
       "      <td>3.01</td>\n",
       "    </tr>\n",
       "    <tr>\n",
       "      <th>6</th>\n",
       "      <td>SVC</td>\n",
       "      <td>72.49</td>\n",
       "      <td>85.02</td>\n",
       "      <td>84.97</td>\n",
       "      <td>87.51</td>\n",
       "      <td>12.53</td>\n",
       "      <td>12.48</td>\n",
       "    </tr>\n",
       "    <tr>\n",
       "      <th>7</th>\n",
       "      <td>KNN</td>\n",
       "      <td>65.81</td>\n",
       "      <td>68.28</td>\n",
       "      <td>68.89</td>\n",
       "      <td>86.11</td>\n",
       "      <td>2.47</td>\n",
       "      <td>3.08</td>\n",
       "    </tr>\n",
       "    <tr>\n",
       "      <th>8</th>\n",
       "      <td>Gaussian NB</td>\n",
       "      <td>65.76</td>\n",
       "      <td>65.75</td>\n",
       "      <td>65.75</td>\n",
       "      <td>56.95</td>\n",
       "      <td>-0.01</td>\n",
       "      <td>-0.01</td>\n",
       "    </tr>\n",
       "  </tbody>\n",
       "</table>\n",
       "</div>"
      ],
      "text/plain": [
       "                     Models  with outliers  Removed outliers  \\\n",
       "0                       GBC          92.01             92.78   \n",
       "1                       XGB          92.00             92.23   \n",
       "2             Random Forest          91.83             93.04   \n",
       "3                Kernel SVM          86.52             88.99   \n",
       "4  Decision Tree Classifier          84.32             87.99   \n",
       "5       Logistic Regression          81.72             84.77   \n",
       "6                       SVC          72.49             85.02   \n",
       "7                       KNN          65.81             68.28   \n",
       "8               Gaussian NB          65.76             65.75   \n",
       "\n",
       "   Removed outliers, with account length bins  \\\n",
       "0                                       92.65   \n",
       "1                                       92.84   \n",
       "2                                       93.29   \n",
       "3                                       89.03   \n",
       "4                                       87.80   \n",
       "5                                       84.73   \n",
       "6                                       84.97   \n",
       "7                                       68.89   \n",
       "8                                       65.75   \n",
       "\n",
       "   Accuracy,Removed outliers, with account length bins  \\\n",
       "0                                              96.63     \n",
       "1                                              96.66     \n",
       "2                                              95.75     \n",
       "3                                              88.59     \n",
       "4                                              93.85     \n",
       "5                                              79.56     \n",
       "6                                              87.51     \n",
       "7                                              86.11     \n",
       "8                                              56.95     \n",
       "\n",
       "   Difference between with outliers and Removed outliers  \\\n",
       "0                                               0.77       \n",
       "1                                               0.23       \n",
       "2                                               1.21       \n",
       "3                                               2.47       \n",
       "4                                               3.67       \n",
       "5                                               3.05       \n",
       "6                                              12.53       \n",
       "7                                               2.47       \n",
       "8                                              -0.01       \n",
       "\n",
       "   Difference between with outliers and Removed outliers, with account length bins  \n",
       "0                                               0.64                                \n",
       "1                                               0.84                                \n",
       "2                                               1.46                                \n",
       "3                                               2.51                                \n",
       "4                                               3.48                                \n",
       "5                                               3.01                                \n",
       "6                                              12.48                                \n",
       "7                                               3.08                                \n",
       "8                                              -0.01                                "
      ]
     },
     "execution_count": 58,
     "metadata": {},
     "output_type": "execute_result"
    }
   ],
   "source": [
    "improvement_df = pd.merge(improvement_df,difference2, right_index = True, left_index = True) \n",
    "improvement_df"
   ]
  },
  {
   "cell_type": "code",
   "execution_count": null,
   "metadata": {},
   "outputs": [],
   "source": []
  },
  {
   "cell_type": "code",
   "execution_count": null,
   "metadata": {},
   "outputs": [],
   "source": []
  },
  {
   "cell_type": "code",
   "execution_count": null,
   "metadata": {},
   "outputs": [],
   "source": []
  },
  {
   "cell_type": "code",
   "execution_count": null,
   "metadata": {},
   "outputs": [],
   "source": []
  },
  {
   "cell_type": "code",
   "execution_count": null,
   "metadata": {},
   "outputs": [],
   "source": []
  },
  {
   "cell_type": "code",
   "execution_count": 14,
   "metadata": {},
   "outputs": [
    {
     "data": {
      "text/plain": [
       "'-0.77'"
      ]
     },
     "execution_count": 14,
     "metadata": {},
     "output_type": "execute_result"
    }
   ],
   "source": [
    "float_formatter(-7.700e-01)"
   ]
  },
  {
   "cell_type": "code",
   "execution_count": null,
   "metadata": {},
   "outputs": [],
   "source": []
  },
  {
   "cell_type": "code",
   "execution_count": 19,
   "metadata": {},
   "outputs": [
    {
     "data": {
      "text/plain": [
       "dtype('float64')"
      ]
     },
     "execution_count": 19,
     "metadata": {},
     "output_type": "execute_result"
    }
   ],
   "source": [
    "answer.dtype"
   ]
  },
  {
   "cell_type": "code",
   "execution_count": 20,
   "metadata": {},
   "outputs": [
    {
     "data": {
      "text/plain": [
       "numpy.ndarray"
      ]
     },
     "execution_count": 20,
     "metadata": {},
     "output_type": "execute_result"
    }
   ],
   "source": [
    "type(answer)"
   ]
  },
  {
   "cell_type": "code",
   "execution_count": 13,
   "metadata": {},
   "outputs": [
    {
     "ename": "TypeError",
     "evalue": "unsupported format string passed to numpy.ndarray.__format__",
     "output_type": "error",
     "traceback": [
      "\u001b[1;31m---------------------------------------------------------------------------\u001b[0m",
      "\u001b[1;31mTypeError\u001b[0m                                 Traceback (most recent call last)",
      "\u001b[1;32m<ipython-input-13-74a8d03fe685>\u001b[0m in \u001b[0;36m<module>\u001b[1;34m\u001b[0m\n\u001b[1;32m----> 1\u001b[1;33m \u001b[0mfloat_formatter\u001b[0m\u001b[1;33m(\u001b[0m\u001b[0manswer\u001b[0m\u001b[1;33m)\u001b[0m\u001b[1;33m\u001b[0m\u001b[1;33m\u001b[0m\u001b[0m\n\u001b[0m",
      "\u001b[1;31mTypeError\u001b[0m: unsupported format string passed to numpy.ndarray.__format__"
     ]
    }
   ],
   "source": [
    "float_formatter(answer)"
   ]
  },
  {
   "cell_type": "code",
   "execution_count": 16,
   "metadata": {},
   "outputs": [
    {
     "ename": "TypeError",
     "evalue": "unsupported format string passed to numpy.ndarray.__format__",
     "output_type": "error",
     "traceback": [
      "\u001b[1;31m---------------------------------------------------------------------------\u001b[0m",
      "\u001b[1;31mTypeError\u001b[0m                                 Traceback (most recent call last)",
      "\u001b[1;32m<ipython-input-16-74a8d03fe685>\u001b[0m in \u001b[0;36m<module>\u001b[1;34m\u001b[0m\n\u001b[1;32m----> 1\u001b[1;33m \u001b[0mfloat_formatter\u001b[0m\u001b[1;33m(\u001b[0m\u001b[0manswer\u001b[0m\u001b[1;33m)\u001b[0m\u001b[1;33m\u001b[0m\u001b[1;33m\u001b[0m\u001b[0m\n\u001b[0m",
      "\u001b[1;31mTypeError\u001b[0m: unsupported format string passed to numpy.ndarray.__format__"
     ]
    }
   ],
   "source": [
    "float_formatter(answer)"
   ]
  },
  {
   "cell_type": "code",
   "execution_count": null,
   "metadata": {},
   "outputs": [],
   "source": []
  },
  {
   "cell_type": "code",
   "execution_count": null,
   "metadata": {},
   "outputs": [],
   "source": []
  },
  {
   "cell_type": "code",
   "execution_count": 15,
   "metadata": {},
   "outputs": [],
   "source": [
    "a = np.array([1, 2, 3, 4])"
   ]
  },
  {
   "cell_type": "code",
   "execution_count": 16,
   "metadata": {},
   "outputs": [
    {
     "data": {
      "text/plain": [
       "array([2, 3, 4, 5])"
      ]
     },
     "execution_count": 16,
     "metadata": {},
     "output_type": "execute_result"
    }
   ],
   "source": [
    "a + 1"
   ]
  },
  {
   "cell_type": "code",
   "execution_count": 17,
   "metadata": {},
   "outputs": [
    {
     "data": {
      "text/plain": [
       "array([ 2,  4,  8, 16], dtype=int32)"
      ]
     },
     "execution_count": 17,
     "metadata": {},
     "output_type": "execute_result"
    }
   ],
   "source": [
    "2**a"
   ]
  },
  {
   "cell_type": "code",
   "execution_count": 18,
   "metadata": {},
   "outputs": [
    {
     "data": {
      "text/plain": [
       "array([2., 2., 2., 2.])"
      ]
     },
     "execution_count": 18,
     "metadata": {},
     "output_type": "execute_result"
    }
   ],
   "source": [
    "b = np.ones(4) + 1\n",
    "b"
   ]
  },
  {
   "cell_type": "code",
   "execution_count": 19,
   "metadata": {},
   "outputs": [
    {
     "data": {
      "text/plain": [
       "array([1, 2, 3, 4])"
      ]
     },
     "execution_count": 19,
     "metadata": {},
     "output_type": "execute_result"
    }
   ],
   "source": [
    "a"
   ]
  },
  {
   "cell_type": "code",
   "execution_count": 20,
   "metadata": {},
   "outputs": [
    {
     "data": {
      "text/plain": [
       "array([-1.,  0.,  1.,  2.])"
      ]
     },
     "execution_count": 20,
     "metadata": {},
     "output_type": "execute_result"
    }
   ],
   "source": [
    "a - b"
   ]
  },
  {
   "cell_type": "code",
   "execution_count": 22,
   "metadata": {},
   "outputs": [
    {
     "data": {
      "text/plain": [
       "dtype('int32')"
      ]
     },
     "execution_count": 22,
     "metadata": {},
     "output_type": "execute_result"
    }
   ],
   "source": [
    "a.dtype"
   ]
  },
  {
   "cell_type": "code",
   "execution_count": null,
   "metadata": {},
   "outputs": [],
   "source": []
  },
  {
   "cell_type": "code",
   "execution_count": null,
   "metadata": {},
   "outputs": [],
   "source": []
  },
  {
   "cell_type": "code",
   "execution_count": null,
   "metadata": {},
   "outputs": [],
   "source": []
  }
 ],
 "metadata": {
  "kernelspec": {
   "display_name": "Python 3",
   "language": "python",
   "name": "python3"
  },
  "language_info": {
   "codemirror_mode": {
    "name": "ipython",
    "version": 3
   },
   "file_extension": ".py",
   "mimetype": "text/x-python",
   "name": "python",
   "nbconvert_exporter": "python",
   "pygments_lexer": "ipython3",
   "version": "3.7.1"
  }
 },
 "nbformat": 4,
 "nbformat_minor": 4
}
